{
 "cells": [
  {
   "cell_type": "markdown",
   "metadata": {},
   "source": [
    "This Jupyter Notebook is used to transform the output of xCropProtection into a time series map used for visualization. The output of this code is 2 html maps which show product applications to fields over time. These html files will be saved in user-defined file paths. The first 4 cells specify user-defined values; please review these cells before running the code.\n",
    "\n",
    "- Map 1 visualizes the field applications based on product type (Fungicide, Insecticide, Herbicide, or other). Add products and their types to the product type.\n",
    "- Map 2 visualizes the field applications based on produt name and assigns each product a unique random color.\n",
    "\n",
    "Last update: November 6, 2024"
   ]
  },
  {
   "cell_type": "markdown",
   "metadata": {},
   "source": [
    "Change file paths"
   ]
  },
  {
   "cell_type": "code",
   "execution_count": null,
   "metadata": {},
   "outputs": [],
   "source": [
    "# Path to xCP output file (.dat file)\n",
    "data_store_path = r'C:\\path\\to\\arr.dat'\n",
    "\n",
    "# Path to input shape file (used to display all fields on a map)\n",
    "input_shp_file_path = r'C:\\path\\to\\LULC.shp'\n",
    "\n",
    "# Paths to write output html maps\n",
    "output_map_html_path = r'D:\\path\\to\\xCP_movie_product_type.html'\n",
    "output_map_html_2_path =r'D:\\path\\to\\xCP_movie_product_name.html'\n",
    "\n",
    "# Table that specifies product names and types\n",
    "product_table = r'C:\\path\\to\\ProductTypes.csv'"
   ]
  },
  {
   "cell_type": "markdown",
   "metadata": {},
   "source": [
    "Set the year to visualize"
   ]
  },
  {
   "cell_type": "code",
   "execution_count": null,
   "metadata": {},
   "outputs": [],
   "source": [
    "map_year = \"2021\""
   ]
  },
  {
   "cell_type": "markdown",
   "metadata": {},
   "source": [
    "Set this value to True if output maps should show all field outlines"
   ]
  },
  {
   "cell_type": "code",
   "execution_count": null,
   "metadata": {},
   "outputs": [],
   "source": [
    "show_field_outlines = True"
   ]
  },
  {
   "cell_type": "markdown",
   "metadata": {},
   "source": [
    "Set the default zoom level of the maps"
   ]
  },
  {
   "cell_type": "code",
   "execution_count": null,
   "metadata": {},
   "outputs": [],
   "source": [
    "zoom_level = 12"
   ]
  },
  {
   "cell_type": "code",
   "execution_count": null,
   "metadata": {},
   "outputs": [],
   "source": [
    "import pandas\n",
    "import geopandas\n",
    "import h5py\n",
    "import folium\n",
    "from folium.plugins import TimestampedGeoJson\n",
    "from IPython.display import display, HTML\n",
    "from IPython.core.display import HTML\n",
    "import datetime\n",
    "import csv\n",
    "from random import random\n",
    "import colorsys"
   ]
  },
  {
   "cell_type": "code",
   "execution_count": null,
   "metadata": {},
   "outputs": [],
   "source": [
    "# Check that all subgroups are h5py datasets\n",
    "def checkInstance(datasets):\n",
    "    for dataset in datasets:\n",
    "        if not isinstance(dataset, h5py.Dataset):\n",
    "            return False\n",
    "    return True\n",
    "\n",
    "# Try to access the hdf5 file\n",
    "try:\n",
    "    arr_file = h5py.File(data_store_path, 'r')\n",
    "except FileNotFoundError:\n",
    "    print(\"The file\", data_store_path, \"could not be accessed\")\n",
    "\n",
    "dataset = arr_file['xCropProtection']\n",
    "landscape_dataset = arr_file['LandscapeScenario']\n",
    "\n",
    "# Get data for subgroups\n",
    "application_dates_subgroup = dataset['ApplicationDates']\n",
    "application_rates_subgroup = dataset['ApplicationRates']\n",
    "application_areas = dataset['AppliedAreas']\n",
    "applied_features = dataset['AppliedFields']\n",
    "application_PPP = dataset['AppliedPPP']\n",
    "xcrop_file_path = dataset['xCropProtectionFilePath']\n",
    "drift_reduction = dataset['TechnologyDriftReductions']\n",
    "epsg = landscape_dataset['EPSG']\n",
    "\n",
    "# Check that subgroups are h5py datasets\n",
    "if not checkInstance([application_dates_subgroup, application_rates_subgroup, application_PPP, xcrop_file_path, drift_reduction]):\n",
    "    print(\"Error retrieving subgroup data.\")\n",
    "    quit"
   ]
  },
  {
   "cell_type": "code",
   "execution_count": null,
   "metadata": {},
   "outputs": [],
   "source": [
    "# Access data in each of the subgroups\n",
    "application_dates_data = application_dates_subgroup[:]\n",
    "application_rates_data = application_rates_subgroup[:]\n",
    "applied_features_data = applied_features[:]\n",
    "application_areas_data = application_areas[:]\n",
    "application_PPP_data = application_PPP[:]\n",
    "epsg_data = epsg[()]\n",
    "\n",
    "# Construct dates from ordinals\n",
    "application_dates = [datetime.date.fromordinal(x) for x in application_dates_data]\n",
    "\n",
    "# Prepare data for a DataFrame\n",
    "field_info_set = {'featureID': applied_features_data, \n",
    "                  'appliedPPP': [x.decode() for x in application_PPP_data], #Convert bytes to string\n",
    "                  'appRate': application_rates_data, \n",
    "                  'appDate': pandas.to_datetime(application_dates), \n",
    "                  'appAreas': application_areas}\n",
    "# Convert field_info_set dictionary to DataFrame\n",
    "field_info_df = pandas.DataFrame(field_info_set)\n",
    "field_info_df['appDate'] = field_info_df['appDate'].dt.strftime(\"%Y-%m-%d\")\n",
    "# Filter by selected year\n",
    "field_info_df = field_info_df[field_info_df[\"appDate\"].str.startswith(map_year)]\n",
    "\n",
    "# Convert application area arrays to bytes for geometry creation\n",
    "app_areas_bytes = [x.tobytes() for x in field_info_set['appAreas']]\n",
    "\n",
    "# Create geodataframe and project geometry\n",
    "geo_df = geopandas.GeoDataFrame(\n",
    "    field_info_df,\n",
    "    geometry=geopandas.GeoSeries.from_wkb(app_areas_bytes),\n",
    "    crs=\"EPSG:\" + str(epsg_data)\n",
    ").to_crs(crs=\"EPSG:4258\")\n",
    "geo_df[\"field_idx\"] = geo_df.reset_index().index\n",
    "geo_df[\"date\"] = field_info_df['appDate']\n",
    "geo_df = geo_df.sort_values(by=[\"date\"])\n",
    "geo_df.drop(columns=['appAreas'], inplace=True)\n",
    "\n",
    "# Get the center point so the map is centered on the correct area\n",
    "df_centroid = geo_df.dissolve().centroid"
   ]
  },
  {
   "cell_type": "markdown",
   "metadata": {},
   "source": [
    "Read shapefile for background field outlines"
   ]
  },
  {
   "cell_type": "code",
   "execution_count": null,
   "metadata": {},
   "outputs": [],
   "source": [
    "input_shp_df = geopandas.read_file(input_shp_file_path)"
   ]
  },
  {
   "cell_type": "markdown",
   "metadata": {},
   "source": [
    "Read product information (If you see \"ï»¿\" in the first entry, save the csv without UTF 8 (just csv))"
   ]
  },
  {
   "cell_type": "code",
   "execution_count": null,
   "metadata": {},
   "outputs": [],
   "source": [
    "# product_dict\n",
    "# keys: product names\n",
    "# values: product type (ex: herbicide)\n",
    "with open(product_table, mode='r') as prod_file:\n",
    "    reader = csv.reader(prod_file)\n",
    "    # Create a dictionary with product names as the keys and product types as the values\n",
    "    product_dict = {}\n",
    "    for row in reader:\n",
    "        if row[0].startswith('\"') and row[0].endswith('\"'):\n",
    "            row[0] = row[0][1:-1]\n",
    "        product_dict[row[0]] = row[1]\n",
    "\n",
    "unique_products = geo_df['appliedPPP'].unique()\n",
    "\n",
    "# product_colors_dict\n",
    "# keys: product names\n",
    "# values: color values as hex (ex: #000000) \n",
    "product_colors_dict = {}\n",
    "for product in unique_products:\n",
    "    # Generate bright colors\n",
    "    h,s,l = random(), 0.5 + random()/2.0, 0.4 + random()/5.0\n",
    "    r,g,b = [int(256*i) for i in colorsys.hls_to_rgb(h,l,s)]\n",
    "    product_colors_dict[product] = '#%02X%02X%02X' % (r, g, b)"
   ]
  },
  {
   "cell_type": "markdown",
   "metadata": {},
   "source": [
    "Define map 1 colors"
   ]
  },
  {
   "cell_type": "code",
   "execution_count": null,
   "metadata": {},
   "outputs": [],
   "source": [
    "# Change this list to edit product colors on the map\n",
    "prod_type_colors = {'Fungicide': '#4477AA', 'Insecticide': '#CC3311', 'Herbicide': '#CCBB44', 'Other': '#306B34'}\n",
    "\n",
    "def get_color(prod_name):\n",
    "    # Get the product's type from product_dict, then get that product type's color\n",
    "    return prod_type_colors.get(product_dict.get(prod_name))"
   ]
  },
  {
   "cell_type": "code",
   "execution_count": null,
   "metadata": {},
   "outputs": [],
   "source": [
    "swatch_dict = {}\n",
    "\n",
    "for key in prod_type_colors:\n",
    "    # Create color block for the legend\n",
    "    color_swatch = f'<div style=\"background-color: {prod_type_colors[key]}; width: 10px; height: 10px; display: inline-block;\"></div>'\n",
    "    # Add swatch to the dictionary\n",
    "    swatch_dict[key] = color_swatch\n",
    "\n",
    "product_swatch_dict = {}\n",
    "\n",
    "\n",
    "for key in product_colors_dict:\n",
    "    # Create color block for the legend\n",
    "    color_swatch = f'<div style=\"background-color: {product_colors_dict[key]}; width: 10px; height: 10px; display: inline-block;\"></div>'\n",
    "    # Only add a swatch to the legend if that product is used in this scenario\n",
    "    if key in unique_products:\n",
    "        # Add swatch to the dictionary\n",
    "        product_swatch_dict[key] = color_swatch"
   ]
  },
  {
   "cell_type": "markdown",
   "metadata": {},
   "source": [
    "Create map 1 features"
   ]
  },
  {
   "cell_type": "code",
   "execution_count": null,
   "metadata": {},
   "outputs": [],
   "source": [
    "# Create features to add to the map\n",
    "map_1_features = []\n",
    "\n",
    "for _, row in geo_df.iterrows():\n",
    "    feature = {\n",
    "        'type': 'Feature',\n",
    "        'geometry': row['geometry'].__geo_interface__,\n",
    "        'properties': {\n",
    "            'times': [row['date']],\n",
    "            'popup': str(row['appliedPPP']).strip('\\\"') + \": \" + str(round(row['appRate'], 2)) + \" g/ha\",\n",
    "            'style': {\n",
    "                'color': get_color(row['appliedPPP']),\n",
    "                'fillOpacity': 1.0,\n",
    "                'stroke': False\n",
    "            }\n",
    "        }\n",
    "    }\n",
    "    map_1_features.append(feature)"
   ]
  },
  {
   "cell_type": "markdown",
   "metadata": {},
   "source": [
    "Create map 2 features"
   ]
  },
  {
   "cell_type": "code",
   "execution_count": null,
   "metadata": {},
   "outputs": [],
   "source": [
    "map_2_features = []\n",
    "\n",
    "for _, row in geo_df.iterrows():\n",
    "    feature = {\n",
    "        'type': 'Feature',\n",
    "        'geometry': row['geometry'].__geo_interface__,\n",
    "        'properties': {\n",
    "            'times': [row['date']],\n",
    "            'popup': str(row['appliedPPP']).strip('\\\"') + \": \" + str(round(row['appRate'], 2)) + \" g/ha\",\n",
    "            'style': {\n",
    "                'color': product_colors_dict.get(row['appliedPPP']),\n",
    "                'fillOpacity': 1.0,\n",
    "                'stroke': False\n",
    "            }\n",
    "        }\n",
    "    }\n",
    "    map_2_features.append(feature)"
   ]
  },
  {
   "cell_type": "markdown",
   "metadata": {},
   "source": [
    "Generate and display map 1"
   ]
  },
  {
   "cell_type": "code",
   "execution_count": null,
   "metadata": {},
   "outputs": [],
   "source": [
    "# Set map lat/lon and zoom here\n",
    "map_1 = folium.Map(location=[df_centroid.y.iloc[0], df_centroid.x.iloc[0]], zoom_start = zoom_level, tiles = \"CartoDB Positron\")\n",
    "\n",
    "layer_1 = TimestampedGeoJson({'type': 'FeatureCollection', 'features': map_1_features}, period=\"P1D\", date_options='YYYY-MM-DD', add_last_point=False,\n",
    "                            duration=\"P1D\", time_slider_drag_update=True, loop=False, transition_time=500)\n",
    "\n",
    "layer_1.add_to(map_1)\n",
    "\n",
    "if show_field_outlines:\n",
    "    background_layer = folium.GeoJson(input_shp_df, style_function=lambda feature: {\n",
    "        \"color\": \"#D3D4D3\",\n",
    "        \"fillOpacity\": 0,\n",
    "        \"weight\": 1,\n",
    "    },)\n",
    "    \n",
    "    background_layer.add_to(map_1)\n",
    "\n",
    "# Legend for fields colored based on applied PPP\n",
    "legend_3 = '''\n",
    "<div style=\"position: fixed; bottom: 50px; right: 10px; z-index:1000; background-color: white; padding: 2px; border: 1px solid grey; font-size: 12px;\">\n",
    "    <div style=\"background-color: white; color: black; padding: 2px; border: 1px solid grey;\">Legend</div>\n",
    "'''\n",
    "# Add each PPP type and its corresponding color\n",
    "for key in swatch_dict:\n",
    "    legend_3 += '''<div style=\"background-color: white; color: black; padding: 2px; border: 1px solid grey;\">{}: {}</div>'''.format(key, swatch_dict[key])\n",
    "\n",
    "legend_3 += '''</div>\n",
    "</div>\n",
    "'''\n",
    "\n",
    "# Add legend to map\n",
    "map_1.get_root().html.add_child(folium.Element(legend_3))\n",
    "\n",
    "folium.plugins.Fullscreen(\n",
    "    position=\"topright\",\n",
    "    title=\"Fullscreen\",\n",
    "    title_cancel=\"Exit fullscreen\",\n",
    "    force_separate_button=True,\n",
    ").add_to(map_1)\n",
    "\n",
    "htmlmap_1 = HTML('<iframe srcdoc=\"{}\" style=\"float:left; width: {}px; height: {}px; display:inline-block; margin: 0 auto; border: 1px solid black\"></iframe>'\n",
    "           .format(map_1.get_root().render().replace('\"', '&quot;'),650,650))\n",
    "display(htmlmap_1)\n"
   ]
  },
  {
   "cell_type": "markdown",
   "metadata": {},
   "source": [
    "Generate and display map 2"
   ]
  },
  {
   "cell_type": "code",
   "execution_count": null,
   "metadata": {},
   "outputs": [],
   "source": [
    "# Set map lat/lon and zoom here\n",
    "map_2 = folium.Map(location=[df_centroid.y.iloc[0], df_centroid.x.iloc[0]], zoom_start = zoom_level, tiles = \"CartoDB Positron\")\n",
    "\n",
    "layer_2 = TimestampedGeoJson({'type': 'FeatureCollection', 'features': map_2_features}, period=\"P1D\", date_options='YYYY-MM-DD', add_last_point=False,\n",
    "                            duration=\"P1D\", time_slider_drag_update=True, loop=False, transition_time=500)\n",
    "\n",
    "layer_2.add_to(map_2)\n",
    "if show_field_outlines:\n",
    "    background_layer.add_to(map_2)\n",
    "\n",
    "# Legend for fields colored based on applied PPP\n",
    "map_2_legend = '''\n",
    "<div style=\"position: fixed; bottom: 50px; right: 10px; z-index:1000; background-color: white; padding: 2px; border: 1px solid grey; font-size: 12px;\">\n",
    "    <div style=\"background-color: white; color: black; padding: 2px; border: 1px solid grey;\">Legend</div>\n",
    "'''\n",
    "# Add each PPP type and its corresponding color\n",
    "for key in product_swatch_dict:\n",
    "    map_2_legend += '''<div style=\"background-color: white; color: black; padding: 2px; border: 1px solid grey;\">{}: {}</div>'''.format(key.strip('\\\"'), product_swatch_dict[key])\n",
    "\n",
    "map_2_legend += '''</div>\n",
    "</div>\n",
    "'''\n",
    "\n",
    "# Add legend to map\n",
    "map_2.get_root().html.add_child(folium.Element(map_2_legend))\n",
    "\n",
    "folium.plugins.Fullscreen(\n",
    "    position=\"topright\",\n",
    "    title=\"Fullscreen\",\n",
    "    title_cancel=\"Exit fullscreen\",\n",
    "    force_separate_button=True,\n",
    ").add_to(map_2)\n",
    "\n",
    "htmlmap_2 = HTML('<iframe srcdoc=\"{}\" style=\"float:left; width: {}px; height: {}px; display:inline-block; margin: 0 auto; border: 1px solid black\"></iframe>'\n",
    "           .format(map_2.get_root().render().replace('\"', '&quot;'),650,650))\n",
    "\n",
    "display(htmlmap_2)"
   ]
  },
  {
   "cell_type": "markdown",
   "metadata": {},
   "source": [
    "Uncomment code to format both maps to be displayed on one screen"
   ]
  },
  {
   "cell_type": "code",
   "execution_count": null,
   "metadata": {},
   "outputs": [],
   "source": [
    "htmlmap_2_maps = HTML('<iframe srcdoc=\"{}\" style=\"float:left; width: {}px; height: {}px; display:inline-block; margin: 0 auto; border: 1px solid black\"></iframe>'\n",
    "               '<iframe srcdoc=\"{}\" style=\"float:right; width: {}px; height: {}px; display:inline-block; margin: 0 auto; border: 1px solid black\"></iframe>'\n",
    "            .format(map_1.get_root().render().replace('\"', '&quot;'),650,650, \n",
    "                   map_2.get_root().render().replace('\"', '&quot;'),650,650))\n",
    "\n",
    "#display(htmlmap_2_maps)"
   ]
  },
  {
   "cell_type": "code",
   "execution_count": null,
   "metadata": {},
   "outputs": [],
   "source": [
    "html_content = htmlmap_1.data\n",
    "html_content_2 = htmlmap_2.data\n",
    "\n",
    "# Write the HTML content to a file\n",
    "with open(output_map_html_path, \"w\") as file:\n",
    "    file.write(html_content)\n",
    "\n",
    "with open(output_map_html_2_path, \"w\") as file:\n",
    "    file.write(html_content_2)"
   ]
  }
 ],
 "metadata": {
  "kernelspec": {
   "display_name": "Python 3",
   "language": "python",
   "name": "python3"
  },
  "language_info": {
   "codemirror_mode": {
    "name": "ipython",
    "version": 3
   },
   "file_extension": ".py",
   "mimetype": "text/x-python",
   "name": "python",
   "nbconvert_exporter": "python",
   "pygments_lexer": "ipython3",
   "version": "3.12.2"
  }
 },
 "nbformat": 4,
 "nbformat_minor": 2
}
