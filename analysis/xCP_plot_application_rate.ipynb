{
 "cells": [
  {
   "cell_type": "markdown",
   "metadata": {},
   "source": [
    "This Jupyter Notebook is used to plot application rates (as a scatter plot) of all xCropProtection applications in a user-defined year. Cells 1 and 2 include user parameters. Cell 6 displays the result of the notebook.\n",
    "\n",
    "Version 2.0 - 11/6/2024 (Symbolize application rates by substance)\n",
    "\n",
    "Version 1.0 - 5/23/2024"
   ]
  },
  {
   "cell_type": "markdown",
   "metadata": {},
   "source": [
    "Input and output file paths"
   ]
  },
  {
   "cell_type": "code",
   "execution_count": null,
   "metadata": {},
   "outputs": [],
   "source": [
    "xcrop_arrdat_path = r'C:\\path\\to\\arr.dat'"
   ]
  },
  {
   "cell_type": "markdown",
   "metadata": {},
   "source": [
    "Select year to chart (integer)"
   ]
  },
  {
   "cell_type": "code",
   "execution_count": null,
   "metadata": {},
   "outputs": [],
   "source": [
    "year_to_chart = 1996"
   ]
  },
  {
   "cell_type": "code",
   "execution_count": null,
   "metadata": {},
   "outputs": [],
   "source": [
    "import h5py\n",
    "import datetime\n",
    "import pandas\n",
    "import matplotlib.pyplot as plt\n",
    "import matplotlib.dates as mdates\n",
    "import numpy as np"
   ]
  },
  {
   "cell_type": "code",
   "execution_count": null,
   "metadata": {},
   "outputs": [],
   "source": [
    "# Check that all subgroups are h5py datasets\n",
    "def checkInstance(datasets):\n",
    "    for dataset in datasets:\n",
    "        if not isinstance(dataset, h5py.Dataset):\n",
    "            return False\n",
    "    return True\n",
    "\n",
    "try:\n",
    "    arr_file = h5py.File(xcrop_arrdat_path, 'r')\n",
    "except FileNotFoundError:\n",
    "    print(\"The file\", xcrop_arrdat_path, \"could not be accessed\")\n",
    "\n",
    "dataset = arr_file['xCropProtection']\n",
    "\n",
    "# Get data for subgroups\n",
    "application_dates_subgroup = dataset['ApplicationDates']\n",
    "application_rates_subgroup = dataset['ApplicationRates']\n",
    "application_PPP = dataset['AppliedPPP']\n",
    "# Check that subgroups are h5py datasets\n",
    "if not checkInstance([application_dates_subgroup, application_rates_subgroup]):\n",
    "    print(\"Error retrieving subgroup data.\")\n",
    "    quit"
   ]
  },
  {
   "cell_type": "code",
   "execution_count": null,
   "metadata": {},
   "outputs": [],
   "source": [
    "application_dates_data = application_dates_subgroup[:]\n",
    "application_rates_data = application_rates_subgroup[:]\n",
    "applied_ppp_data = application_PPP[:]\n",
    "\n",
    "# Format dates from ordinal to a more familiar format\n",
    "application_dates = [datetime.date.fromordinal(x) for x in application_dates_data]"
   ]
  },
  {
   "cell_type": "code",
   "execution_count": null,
   "metadata": {},
   "outputs": [],
   "source": [
    "df = pandas.DataFrame({'application_date': application_dates, 'application_rate': application_rates_data})\n",
    "\n",
    "# Add product/substance name to the dataframe\n",
    "applied_ppp_data_decode = [x.decode() for x in applied_ppp_data]\n",
    "applied_ppp_df = pandas.DataFrame(applied_ppp_data_decode)\n",
    "df['appliedPPP'] = applied_ppp_df\n",
    "\n",
    "substances = np.unique(df['appliedPPP'])\n",
    "\n",
    "for substance in substances:\n",
    "    df_substance_only = df.loc[df['appliedPPP'] == substance].sort_values(by=['application_date'])\n",
    "    filtered_dates = df_substance_only.loc[(df_substance_only['application_date'] >= datetime.date(year_to_chart, 1, 1)) & (df_substance_only['application_date'] < datetime.date(year_to_chart + 1, 1, 1))]\n",
    "    plt.plot(filtered_dates['application_date'], filtered_dates['application_rate'], label=substance, marker='o', linestyle='')\n",
    "\n",
    "plt.title(\"Application rates (\" + str(year_to_chart) + \")\")\n",
    "plt.xlabel(\"Date\")\n",
    "myFmt = mdates.DateFormatter('%b')\n",
    "plt.gca().xaxis.set_major_formatter(myFmt)\n",
    "plt.ylabel(\"Application Rate (g/ha)\")\n",
    "plt.legend(loc='upper left', ncols=1, bbox_to_anchor=(1, 1.05), fancybox=True, shadow=True)\n",
    "plt.show()"
   ]
  }
 ],
 "metadata": {
  "kernelspec": {
   "display_name": "Python 3",
   "language": "python",
   "name": "python3"
  },
  "language_info": {
   "codemirror_mode": {
    "name": "ipython",
    "version": 3
   },
   "file_extension": ".py",
   "mimetype": "text/x-python",
   "name": "python",
   "nbconvert_exporter": "python",
   "pygments_lexer": "ipython3",
   "version": "3.12.2"
  }
 },
 "nbformat": 4,
 "nbformat_minor": 2
}
