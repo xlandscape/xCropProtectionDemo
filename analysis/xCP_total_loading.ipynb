{
 "cells": [
  {
   "cell_type": "markdown",
   "metadata": {},
   "source": [
    "This Jupyter Notebook calculates the total loading of a field - the total mass of product applied to a field over a period of time. The result is displayed as a line chart in cell 6. User-defined parameters are located in cells 1 and 2. This code will display the total loading for one field whose ID is specified in cell 2, with the ID being the same identifier used in xCP to distinguish unique fields. It will also display a chart of total loading across all fields, as well as a chart of total loading symbolized by LULC type.\n",
    "\n",
    "Version 2.0 - 11/6/2024 (Added charts for total loading for all fields and by LULC type)\n",
    "\n",
    "Version 1.0 - 5/23/2024"
   ]
  },
  {
   "cell_type": "markdown",
   "metadata": {},
   "source": [
    "Input file path"
   ]
  },
  {
   "cell_type": "code",
   "execution_count": null,
   "metadata": {},
   "outputs": [],
   "source": [
    "# Output hdf file from xCropProtection\n",
    "xcrop_arrdat_path = r'C:\\path\\to\\arr.dat'"
   ]
  },
  {
   "cell_type": "markdown",
   "metadata": {},
   "source": [
    "Select field/feature ID to chart"
   ]
  },
  {
   "cell_type": "code",
   "execution_count": null,
   "metadata": {},
   "outputs": [],
   "source": [
    "feature_to_chart = 922889221"
   ]
  },
  {
   "cell_type": "code",
   "execution_count": null,
   "metadata": {},
   "outputs": [],
   "source": [
    "import h5py\n",
    "import datetime\n",
    "import pandas\n",
    "import geopandas\n",
    "import numpy as np\n",
    "import matplotlib.pyplot as plt"
   ]
  },
  {
   "cell_type": "code",
   "execution_count": null,
   "metadata": {},
   "outputs": [],
   "source": [
    "# Check that all subgroups are h5py datasets\n",
    "def checkInstance(datasets):\n",
    "    for dataset in datasets:\n",
    "        if not isinstance(dataset, h5py.Dataset):\n",
    "            return False\n",
    "    return True\n",
    "\n",
    "try:\n",
    "    arr_file = h5py.File(xcrop_arrdat_path, 'r')\n",
    "except FileNotFoundError:\n",
    "    print(\"The file\", xcrop_arrdat_path, \"could not be accessed\")\n",
    "\n",
    "dataset = arr_file['xCropProtection']\n",
    "landscape_dataset = arr_file['LandscapeScenario']\n",
    "\n",
    "# Get data for subgroups\n",
    "application_dates_subgroup = dataset['ApplicationDates']\n",
    "application_rates_subgroup = dataset['ApplicationRates']\n",
    "application_areas = dataset['AppliedAreas']\n",
    "applied_features = dataset['AppliedFields']\n",
    "application_PPP = dataset['AppliedPPP']\n",
    "xcrop_file_path = dataset['xCropProtectionFilePath']\n",
    "drift_reduction = dataset['TechnologyDriftReductions']\n",
    "\n",
    "landscape_fields = landscape_dataset['FeatureIds']\n",
    "landscape_feature_types = landscape_dataset['FeatureTypeIds']\n",
    "\n",
    "# Check that subgroups are h5py datasets\n",
    "if not checkInstance([application_dates_subgroup, application_rates_subgroup, application_PPP, xcrop_file_path, drift_reduction]):\n",
    "    print(\"Error retrieving subgroup data.\")\n",
    "    quit"
   ]
  },
  {
   "cell_type": "code",
   "execution_count": null,
   "metadata": {},
   "outputs": [],
   "source": [
    "application_dates_data = application_dates_subgroup[:]\n",
    "application_rates_data = application_rates_subgroup[:]\n",
    "applied_features_data = applied_features[:]\n",
    "application_areas_data = application_areas[:]\n",
    "feature_ids_data = landscape_fields[:]\n",
    "feature_types_data = landscape_feature_types[:]\n",
    "\n",
    "application_dates = [datetime.date.fromordinal(x) for x in application_dates_data]\n",
    "\n",
    "feature_id_to_type_dict = {feature_ids_data[i]:feature_types_data[i] for i in range(0, len(feature_ids_data))}\n",
    "\n",
    "# Convert application area arrays to bytes for geometry creation\n",
    "app_areas_bytes = [x.tobytes() for x in application_areas] \n",
    "\n",
    "field_geometries = geopandas.GeoDataFrame(\n",
    "    geometry=geopandas.GeoSeries.from_wkb(app_areas_bytes),\n",
    "    crs=\"EPSG:3857\"\n",
    ").to_crs(crs=\"EPSG:4326\")\n",
    "field_geometries[\"field_idx\"] = field_geometries.reset_index().index\n",
    "\n",
    "# Project geometry and calculate area\n",
    "geom_project = field_geometries.to_crs(crs=\"EPSG:3857\")\n",
    "geom_project_area_m = geom_project.area\n",
    "geom_project_area_ha = geom_project_area_m / 10000"
   ]
  },
  {
   "cell_type": "code",
   "execution_count": null,
   "metadata": {},
   "outputs": [],
   "source": [
    "# Calculate total loading for all fields and write to csv\n",
    "field_info_set = {'featureID': applied_features_data, 'sumAppliedArea_ha': geom_project_area_ha, 'sumApplicationRate_g_per_ha': application_rates_data}\n",
    "field_info_df = pandas.DataFrame(field_info_set)\n",
    "\n",
    "# Show total loading for one field, specified by field_to_chart\n",
    "\n",
    "# Create a DataFrame and set up columns\n",
    "feature_information = pandas.DataFrame({'featureID': applied_features_data,\n",
    "                                        'sumAppliedArea_ha': geom_project_area_ha,\n",
    "                                        'sumApplicationRate_g_per_ha': application_rates_data,\n",
    "                                        'applicationDate': application_dates})\n",
    "\n",
    "fig, ax = plt.subplots()\n",
    "# Plot the selected feature if it is in the dataframe\n",
    "if feature_to_chart in applied_features_data:\n",
    "    # Filter to only include indicated field and sort by date\n",
    "    df_chart_feature_only = feature_information.loc[feature_information['featureID'] == feature_to_chart].sort_values(by=['applicationDate'])\n",
    "    # Calculate total loading for each individual application\n",
    "    feature_total_loading = (df_chart_feature_only.assign(totalLoading_g=df_chart_feature_only.eval('sumAppliedArea_ha * sumApplicationRate_g_per_ha')))\n",
    "    \n",
    "    # Calculate cumulative sum and chart\n",
    "    cumulative_loading = feature_total_loading['totalLoading_g'].cumsum()\n",
    "    plt.plot(feature_total_loading['applicationDate'], cumulative_loading)\n",
    "    plt.title(\"Cumulative loading for field {}\".format(feature_to_chart))\n",
    "    plt.xlabel(\"Date\")\n",
    "    plt.setp(ax.xaxis.get_majorticklabels(), rotation=45, horizontalalignment= 'right')\n",
    "    plt.ylabel(\"Cumulative sum of mass applied (g)\")\n",
    "    plt.show()\n",
    "else:\n",
    "    # If the feature wasn't in the dataframe just plot the first feature\n",
    "    print(\"Feature with ID\", feature_to_chart, \"is not present in the list of applied features.\")\n",
    "    print(\"Showing first feature in list. Feature ID:\", applied_features_data[0])\n",
    "    # Filter to only include indicated field and sort by date\n",
    "    df_chart_feature_only = feature_information.loc[feature_information['featureID'] == applied_features_data[0]].sort_values(by=['applicationDate'])\n",
    "    # Calculate total loading for each individual application\n",
    "    feature_total_loading = (df_chart_feature_only.assign(totalLoading_g=df_chart_feature_only.eval('sumAppliedArea_ha * sumApplicationRate_g_per_ha')))\n",
    "    \n",
    "    # Calculate cumulative sum and chart\n",
    "    cumulative_loading = feature_total_loading['totalLoading_g'].cumsum()\n",
    "    plt.plot(feature_total_loading['applicationDate'], cumulative_loading)\n",
    "    plt.title(\"Cumulative loading for field {}\".format(applied_features_data[0]))\n",
    "    plt.xlabel(\"Date\")\n",
    "    plt.setp(ax.xaxis.get_majorticklabels(), rotation=45, horizontalalignment= 'right')\n",
    "    plt.ylabel(\"Cumulative sum of mass applied (g)\")\n",
    "    plt.show()"
   ]
  },
  {
   "cell_type": "markdown",
   "metadata": {},
   "source": [
    "Show the total loading for all fields"
   ]
  },
  {
   "cell_type": "code",
   "execution_count": null,
   "metadata": {},
   "outputs": [],
   "source": [
    "# Sort by application date\n",
    "df_chart_feature_only = feature_information.sort_values(by=['applicationDate'])\n",
    "# Calculate total loading for each individual application\n",
    "total_loading = (df_chart_feature_only.assign(totalLoading_g=df_chart_feature_only.eval('sumAppliedArea_ha * sumApplicationRate_g_per_ha')))\n",
    "\n",
    "# Calculate cumulative sum and chart\n",
    "cumulative_loading = total_loading['totalLoading_g'].cumsum()\n",
    "fig, ax = plt.subplots()\n",
    "plt.plot(total_loading['applicationDate'], cumulative_loading)\n",
    "plt.title(\"Cumulative sum of mass applied to all fields\")\n",
    "plt.xlabel(\"Date\")\n",
    "plt.setp(ax.xaxis.get_majorticklabels(), rotation=45, horizontalalignment= 'right')\n",
    "plt.ylabel(\"Cumulative sum of mass applied (g)\")\n",
    "plt.show()"
   ]
  },
  {
   "cell_type": "code",
   "execution_count": null,
   "metadata": {},
   "outputs": [],
   "source": [
    "\n",
    "feature_information = feature_information.assign(feature_LULC=lambda x: [feature_id_to_type_dict[feat_id] for feat_id in x['featureID'].values])\n",
    "\n",
    "#Sort so the last date in the array will be the latest\n",
    "application_dates.sort()\n",
    "\n",
    "fig, ax = plt.subplots()\n",
    "# Plot the selected feature if it is in the dataframe\n",
    "for lulc in np.unique(feature_types_data):\n",
    "    # Filter to only include lulc and sort by date\n",
    "    df_chart_feature_only = feature_information.loc[feature_information['feature_LULC'] == lulc].sort_values(by=['applicationDate'])\n",
    "    if len(df_chart_feature_only) == 0:\n",
    "        continue\n",
    "    # Calculate total loading for each individual application\n",
    "    feature_total_loading = (df_chart_feature_only.assign(totalLoading_g=df_chart_feature_only.eval('sumAppliedArea_ha * sumApplicationRate_g_per_ha')))\n",
    "    # Calculate cumulative sum and chart\n",
    "    cumulative_loading = feature_total_loading['totalLoading_g'].cumsum().to_list()\n",
    "    cumulative_loading.append(cumulative_loading[-1])\n",
    "    date_list = feature_total_loading['applicationDate'].to_list()\n",
    "    date_list.append(application_dates[-1])\n",
    "    \n",
    "    ax.plot(date_list, cumulative_loading, label=lulc)\n",
    "\n",
    "plt.title(\"Cumulative sum of mass applied to all fields by LULC type\")\n",
    "plt.xlabel(\"Date\")\n",
    "plt.setp(ax.xaxis.get_majorticklabels(), rotation=45, horizontalalignment= 'right')\n",
    "ax.set_ylabel('Cumulative sum of mass applied (g)')\n",
    "fig.legend(loc='upper left', bbox_to_anchor=(.92, .92))\n",
    "plt.show()"
   ]
  }
 ],
 "metadata": {
  "kernelspec": {
   "display_name": "Python 3",
   "language": "python",
   "name": "python3"
  },
  "language_info": {
   "codemirror_mode": {
    "name": "ipython",
    "version": 3
   },
   "file_extension": ".py",
   "mimetype": "text/x-python",
   "name": "python",
   "nbconvert_exporter": "python",
   "pygments_lexer": "ipython3",
   "version": "3.12.2"
  }
 },
 "nbformat": 4,
 "nbformat_minor": 2
}
